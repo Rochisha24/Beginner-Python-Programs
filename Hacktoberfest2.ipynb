{
  "nbformat": 4,
  "nbformat_minor": 0,
  "metadata": {
    "colab": {
      "name": "Hacktoberfest2.ipynb",
      "provenance": [],
      "collapsed_sections": []
    },
    "kernelspec": {
      "name": "python3",
      "display_name": "Python 3"
    },
    "language_info": {
      "name": "python"
    }
  },
  "cells": [
    {
      "cell_type": "code",
      "metadata": {
        "colab": {
          "base_uri": "https://localhost:8080/"
        },
        "id": "MkJYtX5B6JQW",
        "outputId": "f03ce1c0-41c2-4e51-9e98-f5043c1564cc"
      },
      "source": [
        "#Q)Write a python program to verify the existence and determine the types of roots of a quadratic equation ax^2 + bx + c = 0\n",
        "a=float(input(\"Enter a:\"))\n",
        "b=float(input(\"Enter b:\"))\n",
        "c=float(input(\"Enter c:\"))\n",
        "r=(b*b - 4*a*c)\n",
        "d=2*a\n",
        "d=float(d)\n",
        "if(r<0):\n",
        "  print(\"The roots are imaginary.\")\n",
        "elif(r==0):\n",
        "  print(\"Both roots are equal.\")\n",
        "else:\n",
        "  print(\"The eqn has two distinct roots.\")\n"
      ],
      "execution_count": 8,
      "outputs": [
        {
          "output_type": "stream",
          "name": "stdout",
          "text": [
            "Enter a:24\n",
            "Enter b:-1\n",
            "Enter c:0\n",
            "The eqn has two distinct roots.\n"
          ]
        }
      ]
    }
  ]
}