{
  "nbformat": 4,
  "nbformat_minor": 0,
  "metadata": {
    "colab": {
      "name": "Hacktoberfest4.ipynb",
      "provenance": [],
      "collapsed_sections": []
    },
    "kernelspec": {
      "name": "python3",
      "display_name": "Python 3"
    },
    "language_info": {
      "name": "python"
    }
  },
  "cells": [
    {
      "cell_type": "code",
      "metadata": {
        "id": "nGNbjZjmEFt3",
        "colab": {
          "base_uri": "https://localhost:8080/"
        },
        "outputId": "5cac8278-246e-436e-b1cd-73319ea74b77"
      },
      "source": [
        "#Q)Write a python program to split the given list into 3 sub-lists.\n",
        "list=[1,2,3,4,5,6,88,97,8,9,10]\n",
        "a=int(input(\"Enter first index of slicing \"))\n",
        "b=int(input(\"Enter second index of slicing \"))\n",
        "print(list[:a])\n",
        "print(list[a:b])\n",
        "print(list[b:])\n"
      ],
      "execution_count": 1,
      "outputs": [
        {
          "output_type": "stream",
          "name": "stdout",
          "text": [
            "Enter first index of slicing 3\n",
            "Enter second index of slicing 8\n",
            "[1, 2, 3]\n",
            "[4, 5, 6, 88, 97]\n",
            "[8, 9, 10]\n"
          ]
        }
      ]
    }
  ]
}